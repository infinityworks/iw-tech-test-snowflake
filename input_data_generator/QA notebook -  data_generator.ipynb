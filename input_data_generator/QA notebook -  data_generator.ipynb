{
 "cells": [
  {
   "cell_type": "code",
   "execution_count": 25,
   "id": "95f68e5a",
   "metadata": {},
   "outputs": [],
   "source": [
    "import csv\n",
    "import json\n",
    "import math\n",
    "import os\n",
    "import random\n",
    "from datetime import timedelta\n",
    "\n",
    "import numpy as np"
   ]
  },
  {
   "cell_type": "code",
   "execution_count": 2,
   "id": "90eca0f0",
   "metadata": {},
   "outputs": [],
   "source": [
    "class Customer(object):\n",
    "    def __init__(self, customer_id, loyalty_score):\n",
    "        self.customer_id = customer_id\n",
    "        self.value_score = loyalty_score"
   ]
  },
  {
   "cell_type": "code",
   "execution_count": null,
   "id": "fde49617",
   "metadata": {},
   "outputs": [],
   "source": [
    "#Generate customers QA - All good"
   ]
  },
  {
   "cell_type": "code",
   "execution_count": 3,
   "id": "8fd54225",
   "metadata": {},
   "outputs": [],
   "source": [
    "def generate_customers(\n",
    "    output_location_root, number_of_customers, return_data=True\n",
    "):\n",
    "    customers = []\n",
    "    with open(\n",
    "        f\"{output_location_root}/customers.csv\", mode=\"w\"\n",
    "    ) as customers_file:\n",
    "        csv_writer = csv.writer(\n",
    "            customers_file,\n",
    "            delimiter=\",\",\n",
    "            quotechar='\"',\n",
    "            quoting=csv.QUOTE_MINIMAL,\n",
    "        )\n",
    "        csv_writer.writerow([\"customer_id\", \"loyalty_score\"])\n",
    "        for cid in range(1, number_of_customers + 1):\n",
    "            score = np.random.randint(low=1, high=11)\n",
    "            customer_id = f\"C{cid}\"\n",
    "            csv_writer.writerow([customer_id, score])\n",
    "            if return_data:\n",
    "                customers.append(Customer(customer_id, score))\n",
    "    return customers if return_data else None\n"
   ]
  },
  {
   "cell_type": "code",
   "execution_count": 4,
   "id": "8358a161",
   "metadata": {},
   "outputs": [],
   "source": [
    "#Generate products QA - All good"
   ]
  },
  {
   "cell_type": "code",
   "execution_count": 6,
   "id": "7bcb7e7a",
   "metadata": {},
   "outputs": [],
   "source": [
    "def generate_products(output_location_root, products_to_generate):\n",
    "    product_count_digits = int(\n",
    "        math.log10(len(sum(products_to_generate.values(), []))) + 1\n",
    "    )\n",
    "\n",
    "    product_id_lookup = {k: {} for k, v in products_to_generate.items()}\n",
    "    with open(\n",
    "        f\"{output_location_root}/products.csv\", mode=\"w\"\n",
    "    ) as products_file:\n",
    "        csv_writer = csv.writer(\n",
    "            products_file,\n",
    "            delimiter=\",\",\n",
    "            quotechar='\"',\n",
    "            quoting=csv.QUOTE_MINIMAL,\n",
    "        )\n",
    "        csv_writer.writerow(\n",
    "            [\"product_id\", \"product_description\", \"product_category\"]\n",
    "        )\n",
    "        item_index = 1\n",
    "        for category in products_to_generate:\n",
    "            for item in products_to_generate[category]:\n",
    "                product_id = f\"P{str(item_index).zfill(product_count_digits)}\"\n",
    "                csv_writer.writerow([product_id, item, category])\n",
    "                product_id_lookup[category][item] = product_id\n",
    "                item_index += 1\n",
    "    return product_id_lookup"
   ]
  },
  {
   "cell_type": "code",
   "execution_count": 7,
   "id": "22c4068f",
   "metadata": {},
   "outputs": [],
   "source": [
    "#Generate products QA - Timeframe?"
   ]
  },
  {
   "cell_type": "code",
   "execution_count": 19,
   "id": "08f7e057",
   "metadata": {},
   "outputs": [],
   "source": [
    "start_datetime = 2021-01-01\n",
    "end_datetime = 2021-12-01"
   ]
  },
  {
   "cell_type": "code",
   "execution_count": 28,
   "id": "f780f2cc",
   "metadata": {},
   "outputs": [
    {
     "data": {
      "text/plain": [
       "datetime.timedelta(days=2)"
      ]
     },
     "execution_count": 28,
     "metadata": {},
     "output_type": "execute_result"
    }
   ],
   "source": [
    "timedelta(days=2)"
   ]
  },
  {
   "cell_type": "code",
   "execution_count": 20,
   "id": "0ed3a34e",
   "metadata": {},
   "outputs": [
    {
     "ename": "TypeError",
     "evalue": "unsupported operand type(s) for -: 'str' and 'str'",
     "output_type": "error",
     "traceback": [
      "\u001b[0;31m---------------------------------------------------------------------------\u001b[0m",
      "\u001b[0;31mTypeError\u001b[0m                                 Traceback (most recent call last)",
      "Input \u001b[0;32mIn [20]\u001b[0m, in \u001b[0;36m<module>\u001b[0;34m\u001b[0m\n\u001b[0;32m----> 1\u001b[0m num_days \u001b[38;5;241m=\u001b[39m (\u001b[43mend_datetime\u001b[49m\u001b[43m \u001b[49m\u001b[38;5;241;43m-\u001b[39;49m\u001b[43m \u001b[49m\u001b[43mstart_datetime\u001b[49m)\u001b[38;5;241m.\u001b[39mdays\n",
      "\u001b[0;31mTypeError\u001b[0m: unsupported operand type(s) for -: 'str' and 'str'"
     ]
    }
   ],
   "source": [
    "num_days = (end_datetime - start_datetime).days"
   ]
  },
  {
   "cell_type": "code",
   "execution_count": null,
   "id": "f7cbb5a2",
   "metadata": {},
   "outputs": [],
   "source": [
    "all_days = [\n",
    "        start_datetime + timedelta(days=d) for d in range(0, num_days + 1)\n",
    "    ]"
   ]
  },
  {
   "cell_type": "code",
   "execution_count": 18,
   "id": "c3fdf735",
   "metadata": {},
   "outputs": [
    {
     "ename": "NameError",
     "evalue": "name 'd' is not defined",
     "output_type": "error",
     "traceback": [
      "\u001b[0;31m---------------------------------------------------------------------------\u001b[0m",
      "\u001b[0;31mNameError\u001b[0m                                 Traceback (most recent call last)",
      "Input \u001b[0;32mIn [18]\u001b[0m, in \u001b[0;36m<module>\u001b[0;34m\u001b[0m\n\u001b[0;32m----> 1\u001b[0m timedelta(days\u001b[38;5;241m=\u001b[39m\u001b[43md\u001b[49m)\n",
      "\u001b[0;31mNameError\u001b[0m: name 'd' is not defined"
     ]
    }
   ],
   "source": [
    "timedelta(days=d)"
   ]
  },
  {
   "cell_type": "code",
   "execution_count": 15,
   "id": "f9930ac0",
   "metadata": {},
   "outputs": [
    {
     "ename": "NameError",
     "evalue": "name 'num_days' is not defined",
     "output_type": "error",
     "traceback": [
      "\u001b[0;31m---------------------------------------------------------------------------\u001b[0m",
      "\u001b[0;31mNameError\u001b[0m                                 Traceback (most recent call last)",
      "Input \u001b[0;32mIn [15]\u001b[0m, in \u001b[0;36m<module>\u001b[0;34m\u001b[0m\n\u001b[1;32m      1\u001b[0m all_days \u001b[38;5;241m=\u001b[39m [\n\u001b[0;32m----> 2\u001b[0m         start_datetime \u001b[38;5;241m+\u001b[39m timedelta(days\u001b[38;5;241m=\u001b[39md) \u001b[38;5;28;01mfor\u001b[39;00m d \u001b[38;5;129;01min\u001b[39;00m \u001b[38;5;28mrange\u001b[39m(\u001b[38;5;241m0\u001b[39m, \u001b[43mnum_days\u001b[49m \u001b[38;5;241m+\u001b[39m \u001b[38;5;241m1\u001b[39m)\n\u001b[1;32m      3\u001b[0m     ]\n\u001b[1;32m      4\u001b[0m all_days\n",
      "\u001b[0;31mNameError\u001b[0m: name 'num_days' is not defined"
     ]
    }
   ],
   "source": [
    "all_days = [\n",
    "        start_datetime + timedelta(days=d) for d in range(0, num_days + 1)\n",
    "    ]\n",
    "all_days"
   ]
  },
  {
   "cell_type": "code",
   "execution_count": 9,
   "id": "2b6e4644",
   "metadata": {},
   "outputs": [],
   "source": [
    "def generate_transactions(\n",
    "    output_location_root,\n",
    "    customers,\n",
    "    products,\n",
    "    product_id_lookup,\n",
    "    products_cats_frequency,\n",
    "    start_datetime,\n",
    "    end_datetime,\n",
    "):\n",
    "    open_files = open_transaction_sinks(\n",
    "        output_location_root, start_datetime, end_datetime\n",
    "    )\n",
    "    product_cats_count = len(products.keys())\n",
    "    num_days = (end_datetime - start_datetime).days\n",
    "    all_days = [\n",
    "        start_datetime + timedelta(days=d) for d in range(0, num_days + 1)\n",
    "    ]\n",
    "    customer_frequency_type = [\n",
    "        int(num_days / 14),\n",
    "        int(num_days / 10),\n",
    "        int(num_days / 7),\n",
    "        int(num_days / 5),\n",
    "        int(num_days / 4),\n",
    "        int(num_days / 3),\n",
    "    ]\n",
    "\n",
    "    for customer in customers:\n",
    "        num_transaction_days = random.choice(customer_frequency_type)\n",
    "        num_cats = random.randint(1, product_cats_count)\n",
    "        customer_transaction_days = sorted(\n",
    "            random.sample(all_days, num_transaction_days)\n",
    "        )\n",
    "        cats = random.sample(products_cats_frequency, num_cats)\n",
    "        for day in customer_transaction_days:\n",
    "            transaction = {\n",
    "                \"customer_id\": customer.customer_id,\n",
    "                \"basket\": generate_basket(products, product_id_lookup, cats),\n",
    "                \"date_of_purchase\": str(\n",
    "                    day + timedelta(minutes=random.randint(168, 1439))\n",
    "                ),\n",
    "            }\n",
    "            open_files[to_canonical_date_str(day)].write(\n",
    "                json.dumps(transaction) + \"\\n\"\n",
    "            )\n",
    "\n",
    "    for f in open_files.values():\n",
    "        f.close()"
   ]
  },
  {
   "cell_type": "code",
   "execution_count": null,
   "id": "da305896",
   "metadata": {},
   "outputs": [],
   "source": []
  }
 ],
 "metadata": {
  "kernelspec": {
   "display_name": "Python 3 (ipykernel)",
   "language": "python",
   "name": "python3"
  },
  "language_info": {
   "codemirror_mode": {
    "name": "ipython",
    "version": 3
   },
   "file_extension": ".py",
   "mimetype": "text/x-python",
   "name": "python",
   "nbconvert_exporter": "python",
   "pygments_lexer": "ipython3",
   "version": "3.8.12"
  }
 },
 "nbformat": 4,
 "nbformat_minor": 5
}
